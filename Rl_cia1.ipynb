{
 "cells": [
  {
   "cell_type": "code",
   "execution_count": 1,
   "metadata": {},
   "outputs": [],
   "source": [
    "import random\n",
    "import math\n",
    "import matplotlib.pyplot as plt"
   ]
  },
  {
   "cell_type": "code",
   "execution_count": null,
   "metadata": {},
   "outputs": [],
   "source": [
    "class KArmBandit:\n",
    "    def __init__(self, k, aligned_articles, strategy=\"epsilon-greedy\", epsilon=0.1, ucb_c=1.0):\n",
    "        self.k = k\n",
    "        self.aligned_articles = aligned_articles\n",
    "        self.strategy = strategy \n",
    "        self.epsilon = epsilon\n",
    "        self.ucb_c = ucb_c\n",
    "        self.q_values = [0.0] * k\n",
    "        self.action_counts = [0] * k\n",
    "        self.time_step = 0\n",
    "\n",
    "    def choose_action(self):\n",
    "        if self.strategy == \"epsilon-greedy\":\n",
    "            return self._choose_action_epsilon_greedy()\n",
    "        elif self.strategy == \"ucb\":\n",
    "            return self._choose_action_ucb()\n",
    "        else:\n",
    "            raise ValueError(\"Invalid strategy. Choose 'epsilon-greedy' or 'ucb'.\")\n",
    "\n",
    "    def _choose_action_epsilon_greedy(self):\n",
    "        if random.random() < self.epsilon:\n",
    "            return random.randrange(self.k) \n",
    "        else:\n",
    "            max_q = max(self.q_values)\n",
    "            return random.choice([i for i, q in enumerate(self.q_values) if q == max_q])\n",
    "\n",
    "\n",
    "    def _choose_action_ucb(self):\n",
    "        self.time_step += 1\n",
    "        ucb_values = [self.q_values[i] + self.ucb_c * math.sqrt(math.log(self.time_step) / (self.action_counts[i] + 1e-6)) for i in range(self.k)]\n",
    "\n",
    "        max_ucb = max(ucb_values)\n",
    "        return random.choice([i for i, ucb in enumerate(ucb_values) if ucb == max_ucb])\n",
    "\n",
    "\n",
    "    def update(self, action, reward):\n",
    "        self.action_counts[action] += 1\n",
    "        self.q_values[action] += (reward - self.q_values[action]) / self.action_counts[action]"
   ]
  },
  {
   "cell_type": "code",
   "execution_count": 3,
   "metadata": {},
   "outputs": [],
   "source": [
    "k = 5\n",
    "aligned_articles = [0, 1]\n",
    "trials = 1000\n",
    "\n",
    "bandit_epsilon = KArmBandit(k, aligned_articles, strategy=\"epsilon-greedy\", epsilon=0.1)\n",
    "bandit_ucb = KArmBandit(k, aligned_articles, strategy=\"ucb\", ucb_c=2)"
   ]
  },
  {
   "cell_type": "code",
   "execution_count": null,
   "metadata": {},
   "outputs": [],
   "source": [
    "results = {  \n",
    "    \"epsilon-greedy\": {\"aligned_shown\": 0},\n",
    "    \"ucb\": {\"aligned_shown\": 0}\n",
    "}"
   ]
  },
  {
   "cell_type": "code",
   "execution_count": 5,
   "metadata": {},
   "outputs": [],
   "source": [
    "for t in range(trials):\n",
    "    rewards = [random.gauss(5 if i in aligned_articles else 1, 1) for i in range(k)]\n",
    "\n",
    "    for bandit, strategy_name in [(bandit_epsilon, \"epsilon-greedy\"), (bandit_ucb, \"ucb\")]:\n",
    "        action = bandit.choose_action()\n",
    "        bandit.update(action, rewards[action])\n",
    "        if action in aligned_articles:\n",
    "            results[strategy_name][\"aligned_shown\"] += 1"
   ]
  },
  {
   "cell_type": "code",
   "execution_count": null,
   "metadata": {},
   "outputs": [
    {
     "name": "stdout",
     "output_type": "stream",
     "text": [
      "\n",
      "Epsilon-Greedy:\n",
      "Aligned Articles Shown: 932/1000 times.\n",
      "Estimated Q-values: [4.930448547986353, 4.979424881548845, 1.1081998479653834, 1.0287491708191792, 0.8795194219889996]\n",
      "\n",
      "Ucb:\n",
      "Aligned Articles Shown: 993/1000 times.\n",
      "Estimated Q-values: [4.952334224840985, 5.041216586956518, 1.1803944968684354, 1.690795998714935, 1.2343324464738585]\n"
     ]
    }
   ],
   "source": [
    "for strategy_name, data in results.items():\n",
    "    print(f\"\\n{strategy_name.title()}:\")\n",
    "    print(f\"Aligned Articles Shown: {data['aligned_shown']}/{trials} times.\")\n",
    "    if strategy_name == \"epsilon-greedy\":\n",
    "        print(\"Estimated Q-values:\", bandit_epsilon.q_values)\n",
    "    elif strategy_name == \"ucb\":\n",
    "        print(\"Estimated Q-values:\", bandit_ucb.q_values)"
   ]
  },
  {
   "cell_type": "code",
   "execution_count": null,
   "metadata": {},
   "outputs": [],
   "source": []
  }
 ],
 "metadata": {
  "kernelspec": {
   "display_name": ".venv",
   "language": "python",
   "name": "python3"
  },
  "language_info": {
   "codemirror_mode": {
    "name": "ipython",
    "version": 3
   },
   "file_extension": ".py",
   "mimetype": "text/x-python",
   "name": "python",
   "nbconvert_exporter": "python",
   "pygments_lexer": "ipython3",
   "version": "3.11.9"
  }
 },
 "nbformat": 4,
 "nbformat_minor": 2
}
